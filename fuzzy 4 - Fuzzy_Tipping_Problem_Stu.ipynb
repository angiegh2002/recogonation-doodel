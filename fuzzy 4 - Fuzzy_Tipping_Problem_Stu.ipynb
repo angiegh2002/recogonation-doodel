{
 "cells": [
  {
   "cell_type": "markdown",
   "metadata": {
    "id": "dzhuWHC3Y6qM"
   },
   "source": [
    "# Fuzzy Logic Lesson 4: Solving the Tipping Problem\n",
    "### Using `scikit-fuzzy`\n",
    "\n",
    "**Objective:** Model and solve a fuzzy control problem (tipping) where we decide the tip amount based on service and food quality.\n"
   ]
  },
  {
   "cell_type": "code",
   "execution_count": null,
   "metadata": {
    "colab": {
     "base_uri": "https://localhost:8080/"
    },
    "executionInfo": {
     "elapsed": 3943,
     "status": "ok",
     "timestamp": 1747511179775,
     "user": {
      "displayName": "Mohamad Loay Hunesh",
      "userId": "07175164885095690664"
     },
     "user_tz": -180
    },
    "id": "H6hBrUMix7N6",
    "outputId": "e4baed01-b5f6-4648-d105-d634298e258f"
   },
   "outputs": [],
   "source": [
    "!pip install scikit-fuzzy"
   ]
  },
  {
   "cell_type": "markdown",
   "metadata": {
    "id": "HTNfxuEWY6qO"
   },
   "source": [
    "## 1. Problem Description\n",
    "We aim to build a **fuzzy expert system** to calculate the **tip** based on two inputs:\n",
    "- **Service** quality (e.g., rude to excellent)\n",
    "- **Food** quality (e.g., bad to delicious)\n",
    "\n",
    "The system outputs a **tip amount** (e.g., low to generous).\n",
    "\n",
    "**Goal:** Map linguistic values (like \"good service\") to a crisp numerical tip (like 15%)."
   ]
  },
  {
   "cell_type": "markdown",
   "metadata": {
    "id": "_NwIwyYbY6qO"
   },
   "source": [
    "## 2. Fuzzy Modeling Process\n",
    "### Step 1: Define Variables\n",
    "- Input 1: `service` → range [0, 10] with labels: poor, average, good\n",
    "- Input 2: `food` → range [0, 10] with labels: bad, decent, excellent\n",
    "- Output: `tip` → range [0, 25] with labels: low, medium, high"
   ]
  },
  {
   "cell_type": "code",
   "execution_count": null,
   "metadata": {
    "executionInfo": {
     "elapsed": 9,
     "status": "ok",
     "timestamp": 1747513533010,
     "user": {
      "displayName": "Mohamad Loay Hunesh",
      "userId": "07175164885095690664"
     },
     "user_tz": -180
    },
    "id": "F283PivsY6qP"
   },
   "outputs": [],
   "source": [
    "import numpy as np\n",
    "import skfuzzy as fuzz\n",
    "from skfuzzy import control as ctrl\n",
    "\n",
    "# Define fuzzy variables\n",
    "service = ctrl.Antecedent(np.arange(0, 11, 1), 'service')\n",
    "food = ctrl.Antecedent(np.arange(0, 11, 1), 'food')\n",
    "tip = ctrl.Consequent(np.arange(0, 26, 1), 'tip')"
   ]
  },
  {
   "cell_type": "markdown",
   "metadata": {
    "id": "cfeVQpZvY6qQ"
   },
   "source": [
    "### Step 2: Define Membership Functions\n",
    "We define each fuzzy set **manually** using `trapmf`, `trimf`, or `gaussmf`.\n"
   ]
  },
  {
   "cell_type": "code",
   "execution_count": null,
   "metadata": {
    "executionInfo": {
     "elapsed": 6,
     "status": "ok",
     "timestamp": 1747513535497,
     "user": {
      "displayName": "Mohamad Loay Hunesh",
      "userId": "07175164885095690664"
     },
     "user_tz": -180
    },
    "id": "k9M2IP1NY6qQ"
   },
   "outputs": [],
   "source": [
    "# Service membership functions\n",
    "service['poor'] = fuzz.trimf(service.universe, [0, 0, 5])\n",
    "service['average'] = fuzz.trimf(service.universe, [0, 5, 10])\n",
    "service['good'] = fuzz.trimf(service.universe, [5, 10, 10])\n",
    "\n",
    "# Food membership functions\n",
    "food['bad'] = fuzz.trimf(food.universe, [0, 0, 5])\n",
    "food['decent'] = fuzz.trimf(food.universe, [0, 5, 10])\n",
    "food['excellent'] = fuzz.trimf(food.universe, [5, 10, 10])\n",
    "\n",
    "# Tip membership functions\n",
    "tip['low'] = fuzz.trimf(tip.universe, [0, 0, 13])\n",
    "tip['medium'] = fuzz.trimf(tip.universe, [0, 13, 25])\n",
    "tip['high'] = fuzz.trimf(tip.universe, [13, 25, 25])"
   ]
  },
  {
   "cell_type": "markdown",
   "metadata": {
    "id": "Q4qIZnAdY6qQ"
   },
   "source": [
    "## 3. Visualizing Membership Functions"
   ]
  },
  {
   "cell_type": "code",
   "execution_count": null,
   "metadata": {
    "colab": {
     "base_uri": "https://localhost:8080/",
     "height": 1000
    },
    "executionInfo": {
     "elapsed": 827,
     "status": "ok",
     "timestamp": 1747513537305,
     "user": {
      "displayName": "Mohamad Loay Hunesh",
      "userId": "07175164885095690664"
     },
     "user_tz": -180
    },
    "id": "yYM7CPudY6qQ",
    "outputId": "7f238b51-cc10-47d8-c992-9310e25b1c4c"
   },
   "outputs": [],
   "source": [
    "import matplotlib.pyplot as plt\n",
    "service.view()\n",
    "food.view()\n",
    "tip.view()"
   ]
  },
  {
   "cell_type": "markdown",
   "metadata": {
    "id": "hVUf7v7hY6qQ"
   },
   "source": [
    "## 4. Define Fuzzy Rules\n",
    "Rules reflect expert knowledge:\n",
    "- If service is poor OR food is bad → tip is low\n",
    "- If service is average → tip is medium\n",
    "- If service is good OR food is excellent → tip is high"
   ]
  },
  {
   "cell_type": "code",
   "execution_count": null,
   "metadata": {
    "executionInfo": {
     "elapsed": 5,
     "status": "ok",
     "timestamp": 1747513539617,
     "user": {
      "displayName": "Mohamad Loay Hunesh",
      "userId": "07175164885095690664"
     },
     "user_tz": -180
    },
    "id": "E8voUc7nY6qQ"
   },
   "outputs": [],
   "source": [
    "# Define fuzzy rules\n",
    "rule1 = ctrl.Rule(service['poor'] | food['bad'], tip['low'])\n",
    "rule2 = ctrl.Rule(service['average'], tip['medium'])\n",
    "rule3 = ctrl.Rule(service['good'] | food['excellent'], tip['high'])"
   ]
  },
  {
   "cell_type": "markdown",
   "metadata": {
    "id": "NDoZDo0NY6qQ"
   },
   "source": [
    "## 5. Build and Simulate Control System"
   ]
  },
  {
   "cell_type": "code",
   "execution_count": null,
   "metadata": {
    "colab": {
     "base_uri": "https://localhost:8080/",
     "height": 488
    },
    "executionInfo": {
     "elapsed": 288,
     "status": "ok",
     "timestamp": 1747513542569,
     "user": {
      "displayName": "Mohamad Loay Hunesh",
      "userId": "07175164885095690664"
     },
     "user_tz": -180
    },
    "id": "OnerHORtY6qQ",
    "outputId": "b5ef5a47-907c-47ac-b794-db8dbabdcdc7"
   },
   "outputs": [],
   "source": [
    "# Create control system\n",
    "tipping_ctrl = ctrl.ControlSystem([rule1, rule2, rule3])\n",
    "tipping = ctrl.ControlSystemSimulation(tipping_ctrl)\n",
    "\n",
    "# Set inputs\n",
    "tipping.input['service'] = 6.5\n",
    "tipping.input['food'] = 9.8\n",
    "\n",
    "# Compute the result\n",
    "tipping.compute()\n",
    "print(f\"Suggested tip: {tipping.output['tip']:.2f}%\")\n",
    "tip.view(sim=tipping)"
   ]
  },
  {
   "cell_type": "markdown",
   "metadata": {
    "id": "lgJ7miWtY6qR"
   },
   "source": [
    "## 🧪 Exercise 1: Rule Expansion\n",
    "Expand the fuzzy rule base by adding two new rules. For example:\n",
    "- If service is poor AND food is excellent → tip is medium\n",
    "- If food is decent → tip is medium\n",
    "\n",
    "Update the control system with these rules."
   ]
  },
  {
   "cell_type": "code",
   "execution_count": null,
   "metadata": {
    "executionInfo": {
     "elapsed": 13,
     "status": "ok",
     "timestamp": 1747513798490,
     "user": {
      "displayName": "Mohamad Loay Hunesh",
      "userId": "07175164885095690664"
     },
     "user_tz": -180
    },
    "id": "JhQzu3EpY6qR"
   },
   "outputs": [],
   "source": []
  },
  {
   "cell_type": "markdown",
   "metadata": {
    "id": "ASfn-xgNY6qR"
   },
   "source": [
    "## 🧪 Exercise 2: Simulation Test\n",
    "Test your fuzzy system with different inputs:\n",
    "- Try at least 2 combinations of `service` and `food`\n",
    "- Use `.compute()` and display the resulting tip for each\n",
    "- Visualize the result using `.view(sim=...)`"
   ]
  },
  {
   "cell_type": "code",
   "execution_count": null,
   "metadata": {
    "colab": {
     "base_uri": "https://localhost:8080/",
     "height": 488
    },
    "executionInfo": {
     "elapsed": 212,
     "status": "ok",
     "timestamp": 1747513877940,
     "user": {
      "displayName": "Mohamad Loay Hunesh",
      "userId": "07175164885095690664"
     },
     "user_tz": -180
    },
    "id": "nwP8rLG7Y6qR",
    "outputId": "1ce5119c-cc2e-4015-ea56-81799842efd6"
   },
   "outputs": [],
   "source": []
  },
  {
   "cell_type": "code",
   "execution_count": null,
   "metadata": {
    "colab": {
     "base_uri": "https://localhost:8080/",
     "height": 488
    },
    "executionInfo": {
     "elapsed": 401,
     "status": "ok",
     "timestamp": 1747514030349,
     "user": {
      "displayName": "Mohamad Loay Hunesh",
      "userId": "07175164885095690664"
     },
     "user_tz": -180
    },
    "id": "CDS46v0M8aPG",
    "outputId": "2d7fb57c-4426-4bec-aa3c-e580491635f2"
   },
   "outputs": [],
   "source": []
  },
  {
   "cell_type": "code",
   "execution_count": null,
   "metadata": {
    "id": "JV6FgNTz8xKI"
   },
   "outputs": [],
   "source": []
  }
 ],
 "metadata": {
  "colab": {
   "provenance": []
  },
  "kernelspec": {
   "display_name": "Moh",
   "language": "python",
   "name": "python3"
  },
  "language_info": {
   "codemirror_mode": {
    "name": "ipython",
    "version": 3
   },
   "file_extension": ".py",
   "mimetype": "text/x-python",
   "name": "python",
   "nbconvert_exporter": "python",
   "pygments_lexer": "ipython3",
   "version": "3.9.18"
  }
 },
 "nbformat": 4,
 "nbformat_minor": 0
}

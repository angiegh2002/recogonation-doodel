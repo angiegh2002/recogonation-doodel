{
 "cells": [
  {
   "cell_type": "code",
   "execution_count": null,
   "metadata": {},
   "outputs": [],
   "source": [
    "!pip install scikit-fuzzy"
   ]
  },
  {
   "cell_type": "code",
   "execution_count": null,
   "metadata": {},
   "outputs": [],
   "source": [
    "# Importing necessary libraries\n",
    "import numpy as np\n",
    "import skfuzzy as fuzz\n",
    "import matplotlib.pyplot as plt"
   ]
  },
  {
   "cell_type": "markdown",
   "metadata": {},
   "source": [
    "## 0. Visualizing Common Membership Functions\n",
    "This section introduces commonly used fuzzy membership functions using the `skfuzzy` library:\n",
    "- **Triangular** (`trimf`)\n",
    "- **Trapezoidal** (`trapmf`)\n",
    "- **Gaussian** (`gaussmf`)\n",
    "- **Generalized bell** (`gbellmf`)\n",
    "- **Singleton** (approximated using a sharp narrow Gaussian function)\n",
    "\n",
    "Understanding the shape and parameters of each function is essential to design appropriate fuzzy sets."
   ]
  },
  {
   "cell_type": "code",
   "execution_count": null,
   "metadata": {},
   "outputs": [],
   "source": [
    "x = np.linspace(0, 10, 100)\n",
    "tri = fuzz.trimf(x, [2, 5, 8])\n",
    "trap = fuzz.trapmf(x, [2, 4, 6, 8])\n",
    "gauss = fuzz.gaussmf(x, 5, 1.0)\n",
    "bell = fuzz.gbellmf(x, 2, 4, 5)\n",
    "singleton = fuzz.gaussmf(x, 6, 0.1)\n",
    "\n",
    "plt.figure(figsize=(10,6))\n",
    "plt.plot(x, tri, label='Triangular')\n",
    "plt.plot(x, trap, label='Trapezoidal')\n",
    "plt.plot(x, gauss, label='Gaussian')\n",
    "plt.plot(x, bell, label='Generalized Bell')\n",
    "plt.plot(x, singleton, label='Singleton')\n",
    "plt.title('Common Membership Functions')\n",
    "plt.xlabel('Universe')\n",
    "plt.ylabel('Membership Degree')\n",
    "plt.legend()\n",
    "plt.grid(True)\n",
    "plt.show()"
   ]
  },
  {
   "cell_type": "markdown",
   "metadata": {},
   "source": [
    "# Fuzzy Sets and Operations in Python\n",
    "### Using `scikit-fuzzy (skfuzzy)` Library\n",
    "\n",
    "**Lecture Objectives:**\n",
    "- Understand fuzzy sets and membership functions.\n",
    "- Define and visualize common fuzzy membership functions.\n",
    "- Perform fuzzy operations: union, intersection, complement.\n",
    "- Use alpha-cuts and evaluate membership degrees.\n",
    "- Apply exercises after each section."
   ]
  },
  {
   "cell_type": "markdown",
   "metadata": {},
   "source": [
    "## 1. Defining Fuzzy Sets and Membership Functions"
   ]
  },
  {
   "cell_type": "code",
   "execution_count": null,
   "metadata": {},
   "outputs": [],
   "source": [
    "# Define universe of discourse\n",
    "x = np.arange(0, 10.1, 0.1)\n",
    "\n",
    "# Define fuzzy set using trapezoidal membership function\n",
    "params = [2, 3, 7, 9]\n",
    "y = fuzz.trapmf(x, params)\n",
    "\n",
    "# Plot\n",
    "plt.figure()\n",
    "plt.plot(x, y, 'b', linewidth=2)\n",
    "plt.title('Trapezoidal Membership Function')\n",
    "plt.xlabel('Universe of Discourse')\n",
    "plt.ylabel('Membership Degree')\n",
    "plt.grid(True)\n",
    "plt.show()"
   ]
  },
  {
   "cell_type": "markdown",
   "metadata": {},
   "source": [
    "**Exercise 1:**\n",
    "Define and plot two other types of membership functions (e.g., `trimf`, `gaussmf`) in the domain `[-5, 8]`."
   ]
  },
  {
   "cell_type": "code",
   "execution_count": null,
   "metadata": {},
   "outputs": [],
   "source": [
    "# Write your solution here"
   ]
  },
  {
   "cell_type": "markdown",
   "metadata": {},
   "source": [
    "## 2. Evaluating Membership Degrees"
   ]
  },
  {
   "cell_type": "code",
   "execution_count": null,
   "metadata": {},
   "outputs": [],
   "source": [
    "# Example: find membership degree of x = 2.75\n",
    "x1 = 2.75\n",
    "u1 = fuzz.interp_membership(x, y, x1)\n",
    "print(f\"x1 = {x1} has membership degree u1 = {u1:.2f}\")\n",
    "\n",
    "# Plot point\n",
    "plt.plot(x, y, 'b', linewidth=2)\n",
    "plt.plot([x1, x1], [0, u1], 'r--')\n",
    "plt.plot([0, x1], [u1, u1], 'r--')\n",
    "plt.plot(x1, u1, 'ro')\n",
    "plt.title('Membership Degree Visualization')\n",
    "plt.xlabel('x')\n",
    "plt.ylabel('Membership')\n",
    "plt.grid(True)\n",
    "plt.show()"
   ]
  },
  {
   "cell_type": "markdown",
   "metadata": {},
   "source": [
    "**Exercise 2:**\n",
    "Define a fuzzy set using `gaussmf`. Then compute and plot the membership degree for x = 4.5 and x = 6."
   ]
  },
  {
   "cell_type": "code",
   "execution_count": null,
   "metadata": {},
   "outputs": [],
   "source": [
    "# Write your solution here"
   ]
  },
  {
   "cell_type": "markdown",
   "metadata": {},
   "source": [
    "## 3. Fuzzy Set Operations: Union, Intersection, Complement"
   ]
  },
  {
   "cell_type": "code",
   "execution_count": null,
   "metadata": {},
   "outputs": [],
   "source": [
    "# Define universe of discourse\n",
    "x = np.arange(0, 10.1, 0.1)\n",
    "\n",
    "# Define two fuzzy sets\n",
    "u1 = fuzz.gaussmf(x, 4, 1)\n",
    "u2 = fuzz.trimf(x, [3, 6.5, 9])\n",
    "\n",
    "# Union and Intersection\n",
    "u_union = np.fmax(u1, u2)\n",
    "u_intersect = np.fmin(u1, u2)\n",
    "\n",
    "# Complement of u1\n",
    "u1_comp = 1 - u1\n",
    "\n",
    "# Plot all\n",
    "plt.figure(figsize=(10, 6))\n",
    "plt.subplot(3, 1, 1)\n",
    "plt.plot(x, u1, 'r', label='A')\n",
    "plt.plot(x, u2, 'm', label='B')\n",
    "plt.title('Fuzzy Sets A and B')\n",
    "plt.legend()\n",
    "\n",
    "plt.subplot(3, 1, 2)\n",
    "plt.plot(x, u_union, 'b', linewidth=2)\n",
    "plt.title('Union of A and B (max operator)')\n",
    "\n",
    "plt.subplot(3, 1, 3)\n",
    "plt.plot(x, u_intersect, 'g', linewidth=2)\n",
    "plt.title('Intersection of A and B (min operator)')\n",
    "\n",
    "plt.tight_layout()\n",
    "plt.show()"
   ]
  },
  {
   "cell_type": "markdown",
   "metadata": {},
   "source": [
    "**Exercise 3.1:**\n",
    "Define two new different fuzzy set (A,B) and compute (intersection, union, complement) and Plot the results."
   ]
  },
  {
   "cell_type": "code",
   "execution_count": null,
   "metadata": {},
   "outputs": [],
   "source": [
    "# Write your solution here"
   ]
  },
  {
   "cell_type": "markdown",
   "metadata": {},
   "source": [
    "**Exercise 3.2:**\n",
    "Write code to plot the complement of fuzzy set B. Also, use `plt.text` to annotate the membership degrees at x = 4, 5, 6, 7 on the intersection graph."
   ]
  },
  {
   "cell_type": "code",
   "execution_count": null,
   "metadata": {},
   "outputs": [],
   "source": [
    "# Write your solution here"
   ]
  },
  {
   "cell_type": "markdown",
   "metadata": {},
   "source": [
    "## 4. Alpha-Cuts\n",
    "An alpha-cut is a crisp set that contains all elements of the fuzzy set that have a membership degree greater than or equal to a given alpha threshold."
   ]
  },
  {
   "cell_type": "code",
   "execution_count": null,
   "metadata": {},
   "outputs": [],
   "source": [
    "# Define universe of discourse\n",
    "x = np.arange(0, 10.1, 0.1)\n",
    "\n",
    "# Example alpha cut for alpha = 0.5\n",
    "alpha = 0.5\n",
    "alpha_cut = x[u1 >= alpha]\n",
    "print(f\"Alpha-cut (alpha=0.5): {alpha_cut}\")\n",
    "\n",
    "# Visual representation\n",
    "plt.plot(x, u1, 'r', label='Fuzzy Set A')\n",
    "plt.axhline(y=alpha, color='gray', linestyle='--')\n",
    "plt.fill_between(x, 0, u1, where=(u1 >= alpha), color='orange', alpha=0.5, label='Alpha-Cut')\n",
    "plt.legend()\n",
    "plt.title('Alpha-Cut Visualization')\n",
    "plt.grid(True)\n",
    "plt.show()"
   ]
  },
  {
   "cell_type": "markdown",
   "metadata": {},
   "source": [
    "**Exercise 4:**\n",
    "Compute the alpha-cut for alpha values 0.3 and 0.7. Visualize both cuts. (for your previou fuzzy set A and B from the exercise 3.1)"
   ]
  },
  {
   "cell_type": "code",
   "execution_count": null,
   "metadata": {},
   "outputs": [],
   "source": [
    "# Write your solution here"
   ]
  }
 ],
 "metadata": {
  "kernelspec": {
   "display_name": "Python 3",
   "language": "python",
   "name": "python3"
  },
  "language_info": {
   "name": "python",
   "version": "3.9"
  }
 },
 "nbformat": 4,
 "nbformat_minor": 2
}
